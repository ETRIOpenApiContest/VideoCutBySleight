{
 "cells": [
  {
   "cell_type": "code",
   "execution_count": 6,
   "metadata": {},
   "outputs": [
    {
     "name": "stdout",
     "output_type": "stream",
     "text": [
      "[responseCode]200\n",
      "[responseBody]\n",
      "b'{\"result\":0,\"return_object\":{\"file_id\":\"bec994ad7fe09485c276fefb498fc3ed.mp4\"}}'\n",
      "[responseCode]200\n",
      "[responseBody]\n",
      "b'{\"result\":0,\"return_object\":{\"result\":[{\"num\":6.0,\"time\":[0.0,56.0,76.0,81.0,92.0,99.0],\"frame\":[0.0,1414.0,1918.0,2046.0,2308.0,2499.0],\"code\":3.0,\"msg\":\"All processes are done\"}]}}'\n"
     ]
    },
    {
     "name": "stderr",
     "output_type": "stream",
     "text": [
      "chunk:   0%|                                                                        | 0/2432 [00:00<?, ?it/s, now=None]"
     ]
    },
    {
     "name": "stdout",
     "output_type": "stream",
     "text": [
      "MoviePy - Writing audio in C:\\Users\\skanj\\Desktop\\video\\movie4.wav\n"
     ]
    },
    {
     "name": "stderr",
     "output_type": "stream",
     "text": [
      "                                                                                                                       \r"
     ]
    },
    {
     "name": "stdout",
     "output_type": "stream",
     "text": [
      "MoviePy - Done.\n",
      "[responseCode] 200\n",
      "[responBody]\n",
      "{\"result\":0,\"return_object\":{\"recognized\":\"으 응 \"}}\n"
     ]
    }
   ],
   "source": [
    "import os\n",
    "import urllib3\n",
    "import json\n",
    "import time\n",
    "import base64\n",
    "import moviepy.editor as mp\n",
    "from pydub import AudioSegment\n",
    "\n",
    "openApiURL = \"http://aiopen.etri.re.kr:8000/VideoParse\" #API호출\n",
    "accessKey = \"16f35e3e-b273-4953-9366-4c7d68128530\" #API접근 Key\n",
    "path = r'C:\\Users\\skanj\\Desktop\\video'\n",
    "video = '\\movie4.mp4'\n",
    "videoFilePath =  path + video\n",
    "\n",
    "file = open(videoFilePath,'rb')#파일 열기 (이진파일 읽기 권한부여)\n",
    "fileContent = file.read()\n",
    "file.close()\n",
    "\n",
    "requestJson = {\n",
    "  \"access_key\": accessKey,\n",
    "  \"argument\":{}\n",
    "}\n",
    "\n",
    "http = urllib3.PoolManager()\n",
    "\n",
    "response = http.request(\n",
    "  \"POST\",\n",
    "  openApiURL,\n",
    "  fields={\n",
    "    'json': json.dumps(requestJson),\n",
    "    'uploadfile': (os.path.basename(file.name), fileContent)\n",
    "  }\n",
    ")\n",
    "\n",
    "print(\"[responseCode]\" + str(response.status))\n",
    "print(\"[responseBody]\")\n",
    "print(response.data)\n",
    "\n",
    "time.sleep(30)\n",
    "\n",
    "URL = openApiURL + '/status'\n",
    "file_id = json.loads(response.data.decode())[\"return_object\"][\"file_id\"]\n",
    "\n",
    "requestJson1 = {\n",
    "  \"access_key\": accessKey,\n",
    "  \"argument\":{\"file_id\": file_id}\n",
    "}\n",
    "\n",
    "http1 = urllib3.PoolManager()\n",
    "\n",
    "response1 = http1.request(\n",
    "  \"POST\",\n",
    "  URL,\n",
    "  fields={\n",
    "    'json': json.dumps(requestJson1),\n",
    "    'uploadfile': (os.path.basename(file.name), fileContent)\n",
    "  }\n",
    ")\n",
    "\n",
    "print(\"[responseCode]\" + str(response1.status))\n",
    "print(\"[responseBody]\")\n",
    "print(response1.data)\n",
    "\n",
    "\n",
    "# audio path, language, API\n",
    "languageCode = \"korean\"\n",
    "audio = \"\\movie4.wav\"\n",
    "audioFilePath = path + audio\n",
    "openApiURL = \"http://aiopen.etri.re.kr:8000/WiseASR/Recognition\"\n",
    "\n",
    "# movie to audio\n",
    "clip = mp.VideoFileClip(videoFilePath)\n",
    "clip.audio.write_audiofile(audioFilePath)\n",
    "\n",
    "# audio \n",
    "sound = AudioSegment.from_file(audioFilePath)\n",
    "\n",
    "# 일단 앞에 5초만 나눠봄 (5초가 5000임)\n",
    "split_point = 5000\n",
    "splits = sound[:split_point]\n",
    "\n",
    "# create a new split audio file \n",
    "split_audio_name = \"\\s1.wav\"\n",
    "split_audio_path = path + split_audio_name\n",
    "\n",
    "# audio split\n",
    "splits.export(split_audio_path, format=\"wav\")\n",
    "\n",
    "# 음성인식 API 시작 앞에 5초만 나눈 오디오로 함.\n",
    "file = open(split_audio_path, \"rb\")\n",
    "audioContents = base64.b64encode(file.read()).decode(\"utf8\")\n",
    "file.close()\n",
    " \n",
    "requestJson = {\n",
    "    \"access_key\": accessKey,\n",
    "    \"argument\": {\n",
    "        \"language_code\": languageCode,\n",
    "        \"audio\": audioContents\n",
    "    }\n",
    "}\n",
    " \n",
    "http = urllib3.PoolManager()\n",
    "response = http.request(\n",
    "    \"POST\",\n",
    "    openApiURL,\n",
    "    headers={\"Content-Type\": \"application/json; charset=UTF-8\"},\n",
    "    body=json.dumps(requestJson)\n",
    ")\n",
    " \n",
    "print(\"[responseCode] \" + str(response.status))\n",
    "print(\"[responBody]\")\n",
    "print(str(response.data,\"utf-8\"))\n"
   ]
  },
  {
   "cell_type": "code",
   "execution_count": null,
   "metadata": {},
   "outputs": [],
   "source": []
  }
 ],
 "metadata": {
  "kernelspec": {
   "display_name": "Python 3",
   "language": "python",
   "name": "python3"
  },
  "language_info": {
   "codemirror_mode": {
    "name": "ipython",
    "version": 3
   },
   "file_extension": ".py",
   "mimetype": "text/x-python",
   "name": "python",
   "nbconvert_exporter": "python",
   "pygments_lexer": "ipython3",
   "version": "3.7.0"
  }
 },
 "nbformat": 4,
 "nbformat_minor": 4
}